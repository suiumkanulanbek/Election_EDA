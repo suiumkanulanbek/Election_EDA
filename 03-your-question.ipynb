{
 "cells": [
  {
   "cell_type": "markdown",
   "metadata": {},
   "source": [
    "## Python and R\n",
    "\n",
    "This setup allows you to use *Python* and *R* in the same notebook.\n",
    "\n",
    "To set up a similar notebook, see quickstart instructions here:\n",
    "\n",
    "https://github.com/dmil/jupyter-quickstart\n",
    "\n",
    "Some thoughts on why I like this setup and how I use it at the [end](notebook.ipynb#Thoughts) of  this notebook."
   ]
  },
  {
   "cell_type": "code",
   "execution_count": 1,
   "metadata": {},
   "outputs": [],
   "source": [
    "%load_ext rpy2.ipython\n",
    "%load_ext autoreload\n",
    "%autoreload 2\n",
    "\n",
    "%matplotlib inline  \n",
    "from matplotlib import rcParams\n",
    "rcParams['figure.figsize'] = (16, 100)\n",
    "\n",
    "import warnings\n",
    "from rpy2.rinterface import RRuntimeWarning\n",
    "warnings.filterwarnings(\"ignore\") # Ignore all warnings\n",
    "# warnings.filterwarnings(\"ignore\", category=RRuntimeWarning) # Show some warnings\n",
    "\n",
    "import pandas as pd\n",
    "import numpy as np\n",
    "import matplotlib.pyplot as plt\n",
    "from IPython.display import display, HTML"
   ]
  },
  {
   "cell_type": "markdown",
   "metadata": {},
   "source": [
    "This is a Python notebook, but below is an R cell. The `%%R` at the top of the cell indicates that the code in this cell will be R code."
   ]
  },
  {
   "cell_type": "code",
   "execution_count": 2,
   "metadata": {},
   "outputs": [
    {
     "name": "stdout",
     "output_type": "stream",
     "text": [
      "── Attaching core tidyverse packages ──────────────────────── tidyverse 2.0.0 ──\n",
      "✔ dplyr     1.1.4     ✔ readr     2.1.5\n",
      "✔ forcats   1.0.0     ✔ stringr   1.5.1\n",
      "✔ ggplot2   3.5.1     ✔ tibble    3.2.1\n",
      "✔ lubridate 1.9.4     ✔ tidyr     1.3.1\n",
      "✔ purrr     1.0.2     \n",
      "── Conflicts ────────────────────────────────────────── tidyverse_conflicts() ──\n",
      "✖ dplyr::filter() masks stats::filter()\n",
      "✖ dplyr::lag()    masks stats::lag()\n",
      "ℹ Use the conflicted package (<http://conflicted.r-lib.org/>) to force all conflicts to become errors\n"
     ]
    },
    {
     "data": {
      "text/plain": [
       "Loading required package: tidyverse\n"
      ]
     },
     "metadata": {},
     "output_type": "display_data"
    }
   ],
   "source": [
    "%%R\n",
    "\n",
    "# My commonly used R imports\n",
    "\n",
    "require('tidyverse')"
   ]
  },
  {
   "cell_type": "markdown",
   "metadata": {},
   "source": [
    "## Read Data"
   ]
  },
  {
   "cell_type": "code",
   "execution_count": 3,
   "metadata": {},
   "outputs": [
    {
     "data": {
      "text/html": [
       "<div>\n",
       "<style scoped>\n",
       "    .dataframe tbody tr th:only-of-type {\n",
       "        vertical-align: middle;\n",
       "    }\n",
       "\n",
       "    .dataframe tbody tr th {\n",
       "        vertical-align: top;\n",
       "    }\n",
       "\n",
       "    .dataframe thead th {\n",
       "        text-align: right;\n",
       "    }\n",
       "</style>\n",
       "<table border=\"1\" class=\"dataframe\">\n",
       "  <thead>\n",
       "    <tr style=\"text-align: right;\">\n",
       "      <th></th>\n",
       "      <th>fips</th>\n",
       "      <th>state</th>\n",
       "      <th>county</th>\n",
       "      <th>year</th>\n",
       "      <th>type</th>\n",
       "      <th>class</th>\n",
       "      <th>democratic</th>\n",
       "      <th>republican</th>\n",
       "      <th>other</th>\n",
       "      <th>total</th>\n",
       "      <th>democratic_pct</th>\n",
       "      <th>republican_pct</th>\n",
       "      <th>other_pct</th>\n",
       "    </tr>\n",
       "  </thead>\n",
       "  <tbody>\n",
       "    <tr>\n",
       "      <th>0</th>\n",
       "      <td>1001</td>\n",
       "      <td>Alabama</td>\n",
       "      <td>Autauga County</td>\n",
       "      <td>2024</td>\n",
       "      <td>presidential</td>\n",
       "      <td>NaN</td>\n",
       "      <td>7439</td>\n",
       "      <td>20484</td>\n",
       "      <td>358</td>\n",
       "      <td>28281</td>\n",
       "      <td>26.303879</td>\n",
       "      <td>72.430254</td>\n",
       "      <td>1.265868</td>\n",
       "    </tr>\n",
       "    <tr>\n",
       "      <th>1</th>\n",
       "      <td>1003</td>\n",
       "      <td>Alabama</td>\n",
       "      <td>Baldwin County</td>\n",
       "      <td>2024</td>\n",
       "      <td>presidential</td>\n",
       "      <td>NaN</td>\n",
       "      <td>24934</td>\n",
       "      <td>95798</td>\n",
       "      <td>1517</td>\n",
       "      <td>122249</td>\n",
       "      <td>20.396077</td>\n",
       "      <td>78.363013</td>\n",
       "      <td>1.240910</td>\n",
       "    </tr>\n",
       "    <tr>\n",
       "      <th>2</th>\n",
       "      <td>1005</td>\n",
       "      <td>Alabama</td>\n",
       "      <td>Barbour County</td>\n",
       "      <td>2024</td>\n",
       "      <td>presidential</td>\n",
       "      <td>NaN</td>\n",
       "      <td>4158</td>\n",
       "      <td>5606</td>\n",
       "      <td>91</td>\n",
       "      <td>9855</td>\n",
       "      <td>42.191781</td>\n",
       "      <td>56.884830</td>\n",
       "      <td>0.923389</td>\n",
       "    </tr>\n",
       "    <tr>\n",
       "      <th>3</th>\n",
       "      <td>1007</td>\n",
       "      <td>Alabama</td>\n",
       "      <td>Bibb County</td>\n",
       "      <td>2024</td>\n",
       "      <td>presidential</td>\n",
       "      <td>NaN</td>\n",
       "      <td>1619</td>\n",
       "      <td>7572</td>\n",
       "      <td>66</td>\n",
       "      <td>9257</td>\n",
       "      <td>17.489467</td>\n",
       "      <td>81.797559</td>\n",
       "      <td>0.712974</td>\n",
       "    </tr>\n",
       "    <tr>\n",
       "      <th>4</th>\n",
       "      <td>1009</td>\n",
       "      <td>Alabama</td>\n",
       "      <td>Blount County</td>\n",
       "      <td>2024</td>\n",
       "      <td>presidential</td>\n",
       "      <td>NaN</td>\n",
       "      <td>2576</td>\n",
       "      <td>25354</td>\n",
       "      <td>233</td>\n",
       "      <td>28163</td>\n",
       "      <td>9.146753</td>\n",
       "      <td>90.025921</td>\n",
       "      <td>0.827327</td>\n",
       "    </tr>\n",
       "    <tr>\n",
       "      <th>...</th>\n",
       "      <td>...</td>\n",
       "      <td>...</td>\n",
       "      <td>...</td>\n",
       "      <td>...</td>\n",
       "      <td>...</td>\n",
       "      <td>...</td>\n",
       "      <td>...</td>\n",
       "      <td>...</td>\n",
       "      <td>...</td>\n",
       "      <td>...</td>\n",
       "      <td>...</td>\n",
       "      <td>...</td>\n",
       "      <td>...</td>\n",
       "    </tr>\n",
       "    <tr>\n",
       "      <th>11447</th>\n",
       "      <td>56037</td>\n",
       "      <td>Wyoming</td>\n",
       "      <td>Sweetwater County</td>\n",
       "      <td>2024</td>\n",
       "      <td>senate</td>\n",
       "      <td>1.0</td>\n",
       "      <td>3550</td>\n",
       "      <td>12724</td>\n",
       "      <td>77</td>\n",
       "      <td>16351</td>\n",
       "      <td>21.711210</td>\n",
       "      <td>77.817870</td>\n",
       "      <td>0.470919</td>\n",
       "    </tr>\n",
       "    <tr>\n",
       "      <th>11448</th>\n",
       "      <td>56039</td>\n",
       "      <td>Wyoming</td>\n",
       "      <td>Teton County</td>\n",
       "      <td>2024</td>\n",
       "      <td>senate</td>\n",
       "      <td>1.0</td>\n",
       "      <td>7885</td>\n",
       "      <td>5083</td>\n",
       "      <td>91</td>\n",
       "      <td>13059</td>\n",
       "      <td>60.379815</td>\n",
       "      <td>38.923348</td>\n",
       "      <td>0.696837</td>\n",
       "    </tr>\n",
       "    <tr>\n",
       "      <th>11449</th>\n",
       "      <td>56041</td>\n",
       "      <td>Wyoming</td>\n",
       "      <td>Uinta County</td>\n",
       "      <td>2024</td>\n",
       "      <td>senate</td>\n",
       "      <td>1.0</td>\n",
       "      <td>1478</td>\n",
       "      <td>7310</td>\n",
       "      <td>53</td>\n",
       "      <td>8841</td>\n",
       "      <td>16.717566</td>\n",
       "      <td>82.682954</td>\n",
       "      <td>0.599480</td>\n",
       "    </tr>\n",
       "    <tr>\n",
       "      <th>11450</th>\n",
       "      <td>56043</td>\n",
       "      <td>Wyoming</td>\n",
       "      <td>Washakie County</td>\n",
       "      <td>2024</td>\n",
       "      <td>senate</td>\n",
       "      <td>1.0</td>\n",
       "      <td>588</td>\n",
       "      <td>3207</td>\n",
       "      <td>26</td>\n",
       "      <td>3821</td>\n",
       "      <td>15.388642</td>\n",
       "      <td>83.930908</td>\n",
       "      <td>0.680450</td>\n",
       "    </tr>\n",
       "    <tr>\n",
       "      <th>11451</th>\n",
       "      <td>56045</td>\n",
       "      <td>Wyoming</td>\n",
       "      <td>Weston County</td>\n",
       "      <td>2024</td>\n",
       "      <td>senate</td>\n",
       "      <td>1.0</td>\n",
       "      <td>375</td>\n",
       "      <td>3026</td>\n",
       "      <td>15</td>\n",
       "      <td>3416</td>\n",
       "      <td>10.977752</td>\n",
       "      <td>88.583138</td>\n",
       "      <td>0.439110</td>\n",
       "    </tr>\n",
       "  </tbody>\n",
       "</table>\n",
       "<p>11452 rows × 13 columns</p>\n",
       "</div>"
      ],
      "text/plain": [
       "        fips    state             county  year          type  class  \\\n",
       "0       1001  Alabama     Autauga County  2024  presidential    NaN   \n",
       "1       1003  Alabama     Baldwin County  2024  presidential    NaN   \n",
       "2       1005  Alabama     Barbour County  2024  presidential    NaN   \n",
       "3       1007  Alabama        Bibb County  2024  presidential    NaN   \n",
       "4       1009  Alabama      Blount County  2024  presidential    NaN   \n",
       "...      ...      ...                ...   ...           ...    ...   \n",
       "11447  56037  Wyoming  Sweetwater County  2024        senate    1.0   \n",
       "11448  56039  Wyoming       Teton County  2024        senate    1.0   \n",
       "11449  56041  Wyoming       Uinta County  2024        senate    1.0   \n",
       "11450  56043  Wyoming    Washakie County  2024        senate    1.0   \n",
       "11451  56045  Wyoming      Weston County  2024        senate    1.0   \n",
       "\n",
       "       democratic  republican  other   total  democratic_pct  republican_pct  \\\n",
       "0            7439       20484    358   28281       26.303879       72.430254   \n",
       "1           24934       95798   1517  122249       20.396077       78.363013   \n",
       "2            4158        5606     91    9855       42.191781       56.884830   \n",
       "3            1619        7572     66    9257       17.489467       81.797559   \n",
       "4            2576       25354    233   28163        9.146753       90.025921   \n",
       "...           ...         ...    ...     ...             ...             ...   \n",
       "11447        3550       12724     77   16351       21.711210       77.817870   \n",
       "11448        7885        5083     91   13059       60.379815       38.923348   \n",
       "11449        1478        7310     53    8841       16.717566       82.682954   \n",
       "11450         588        3207     26    3821       15.388642       83.930908   \n",
       "11451         375        3026     15    3416       10.977752       88.583138   \n",
       "\n",
       "       other_pct  \n",
       "0       1.265868  \n",
       "1       1.240910  \n",
       "2       0.923389  \n",
       "3       0.712974  \n",
       "4       0.827327  \n",
       "...          ...  \n",
       "11447   0.470919  \n",
       "11448   0.696837  \n",
       "11449   0.599480  \n",
       "11450   0.680450  \n",
       "11451   0.439110  \n",
       "\n",
       "[11452 rows x 13 columns]"
      ]
     },
     "execution_count": 3,
     "metadata": {},
     "output_type": "execute_result"
    }
   ],
   "source": [
    "df = pd.read_csv('election_results.csv')\n",
    "df"
   ]
  },
  {
   "cell_type": "markdown",
   "metadata": {},
   "source": [
    "## Ask a question\n",
    "\n",
    "You can do this part in Python or in R. If you want to try it in R, don't forget to put `%%R -i df` at the top of the cell to import the `df` variable from Python into R. "
   ]
  },
  {
   "cell_type": "markdown",
   "metadata": {},
   "source": [
    "#### 🤔 WHAT IS YOUR QUESTION?"
   ]
  },
  {
   "cell_type": "code",
   "execution_count": 4,
   "metadata": {},
   "outputs": [],
   "source": [
    "# 👉  Which state had the most independent votes?"
   ]
  },
  {
   "cell_type": "markdown",
   "metadata": {},
   "source": [
    "Write code below to modify/pivot/etc the dataframe to answer your question. Perform any calculations you need."
   ]
  },
  {
   "cell_type": "code",
   "execution_count": 13,
   "metadata": {},
   "outputs": [
    {
     "name": "stdout",
     "output_type": "stream",
     "text": [
      "state\n",
      "Nebraska          3615.693248\n",
      "Texas             1812.462329\n",
      "Minnesota         1335.178845\n",
      "Indiana           1155.893324\n",
      "Missouri          1108.514669\n",
      "Kansas            1090.035432\n",
      "Virginia          1070.065339\n",
      "Illinois          1063.672784\n",
      "Ohio              1061.105418\n",
      "Michigan           999.795012\n",
      "Utah               971.144288\n",
      "Iowa               951.601511\n",
      "Alaska             856.853224\n",
      "Wisconsin          819.186647\n",
      "California         810.465216\n",
      "Colorado           797.916097\n",
      "Montana            793.393721\n",
      "Kentucky           792.147490\n",
      "Idaho              779.651881\n",
      "Tennessee          750.951616\n",
      "North Dakota       722.363277\n",
      "Arkansas           720.779259\n",
      "Georgia            686.743975\n",
      "Washington         679.678809\n",
      "West Virginia      673.726921\n",
      "South Dakota       658.257314\n",
      "Pennsylvania       654.319504\n",
      "Oklahoma           618.232189\n",
      "Oregon             602.210834\n",
      "New York           598.271024\n",
      "North Carolina     568.334823\n",
      "Florida            513.846053\n",
      "New Mexico         496.374599\n",
      "Maine              435.910023\n",
      "Vermont            361.491987\n",
      "Maryland           355.741978\n",
      "Wyoming            354.976014\n",
      "Louisiana          338.783093\n",
      "Nevada             334.734768\n",
      "Mississippi        317.531190\n",
      "Alabama            290.667419\n",
      "South Carolina     264.791938\n",
      "New Jersey         224.637256\n",
      "Arizona            194.702441\n",
      "Massachusetts      175.906635\n",
      "Connecticut        112.950971\n",
      "New Hampshire      102.720890\n",
      "Hawaii              66.372723\n",
      "Rhode Island        66.026217\n",
      "Delaware            35.874072\n",
      "Name: other_pct, dtype: float64\n"
     ]
    }
   ],
   "source": [
    "independents = df.groupby('state')['other_pct'].sum().sort_values(ascending=False)\n",
    "print(independents)"
   ]
  },
  {
   "cell_type": "markdown",
   "metadata": {},
   "source": [
    "## Make some charts that help answer the question\n",
    "You probably want to do this bit in R. You can find an example chart and map in `02-example.ipynb`"
   ]
  },
  {
   "cell_type": "code",
   "execution_count": 17,
   "metadata": {},
   "outputs": [
    {
     "data": {
      "image/png": "[encoded data removed]",
      "text/plain": [
       "<IPython.core.display.Image object>"
      ]
     },
     "metadata": {},
     "output_type": "display_data"
    }
   ],
   "source": [
    "%%R -i df -w 800 -h 600\n",
    "\n",
    "library(ggplot2)\n",
    "\n",
    "ggplot(df, aes(x = reorder(state, -other_pct), y = other_pct)) + \n",
    "  geom_bar(stat = \"identity\", fill = \"steelblue\") +\n",
    "  labs(title = \"Independent Candidate Votes by State\",\n",
    "       x = \"State\",\n",
    "       y = \"Total Votes for Independents\") +\n",
    "  theme_minimal() +\n",
    "  theme(axis.text.x = element_text(angle = 90, hjust = 1))"
   ]
  },
  {
   "cell_type": "code",
   "execution_count": 8,
   "metadata": {},
   "outputs": [],
   "source": [
    "%%R \n",
    "library(ggplot2)\n",
    "\n"
   ]
  },
  {
   "cell_type": "markdown",
   "metadata": {},
   "source": [
    "# Short Memo\n",
    "\n",
    "Write a short memo about what you found. It doesn't have to be a new discovery. Just do a little bit of googling and explain to me what you found and what further questions you have. Submit the Google Doc and a link to your GitHub repo with the code in courseworks. It doesn't have to be longer than a few lines or bullet points. Please include the relevant chart or graph. Remember, the goal is inquiry, not storytelling (yet). "
   ]
  },
  {
   "cell_type": "markdown",
   "metadata": {},
   "source": []
  },
  {
   "cell_type": "code",
   "execution_count": null,
   "metadata": {},
   "outputs": [],
   "source": []
  },
  {
   "cell_type": "code",
   "execution_count": null,
   "metadata": {},
   "outputs": [],
   "source": []
  }
 ],
 "metadata": {
  "kernelspec": {
   "display_name": "Python 3 (ipykernel)",
   "language": "python",
   "name": "python3"
  },
  "language_info": {
   "codemirror_mode": {
    "name": "ipython",
    "version": 3
   },
   "file_extension": ".py",
   "mimetype": "text/x-python",
   "name": "python",
   "nbconvert_exporter": "python",
   "pygments_lexer": "ipython3",
   "version": "3.11.8"
  }
 },
 "nbformat": 4,
 "nbformat_minor": 4
}
